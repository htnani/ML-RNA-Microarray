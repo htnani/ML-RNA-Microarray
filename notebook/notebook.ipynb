{
 "cells": [
  {
   "cell_type": "markdown",
   "metadata": {},
   "source": [
    "# RNA Microarray Machine Learning\n",
    "\n",
    "- Data source is from UCI Machine Learning Repo [https://archive.ics.uci.edu/ml/datasets/gene+expression+cancer+RNA-Seq]\n",
    "- The dataset is a collection gene expressions of patients having different types of tumor: BRCA(breast), KIRC(kidney), COAD(colon), LUAD(lung) and PRAD(prostate).\n",
    "\n",
    "\n",
    "## Import Data and Exploration\n",
    "The dataset contains 801 instances and 20531 features. It is a high dimensional low sample size dataset with multiple classes. The first step of the project is importing the dataset and perform some explorations of the dataset to gain some basic understanding. In terms of visualizations, it is difficult to visualize because of high dimensions. t -Distributed Stochastic Neighbor Embedding or t-SNE is a technique that I used to perform dimension reduction to visualize the data in 2D.\n",
    "\n",
    "\n"
   ]
  },
  {
   "cell_type": "code",
   "execution_count": 1,
   "metadata": {},
   "outputs": [
    {
     "name": "stdout",
     "output_type": "stream",
     "text": [
      "  Unnamed: 0  gene_0    gene_1    gene_2    gene_3     gene_4  gene_5  \\\n",
      "0   sample_0     0.0  2.017209  3.265527  5.478487  10.431999     0.0   \n",
      "1   sample_1     0.0  0.592732  1.588421  7.586157   9.623011     0.0   \n",
      "2   sample_2     0.0  3.511759  4.327199  6.881787   9.870730     0.0   \n",
      "3   sample_3     0.0  3.663618  4.507649  6.659068  10.196184     0.0   \n",
      "4   sample_4     0.0  2.655741  2.821547  6.539454   9.738265     0.0   \n",
      "\n",
      "     gene_6    gene_7  gene_8     ...      gene_20521  gene_20522  gene_20523  \\\n",
      "0  7.175175  0.591871     0.0     ...        4.926711    8.210257    9.723516   \n",
      "1  6.816049  0.000000     0.0     ...        4.593372    7.323865    9.740931   \n",
      "2  6.972130  0.452595     0.0     ...        5.125213    8.127123   10.908640   \n",
      "3  7.843375  0.434882     0.0     ...        6.076566    8.792959   10.141520   \n",
      "4  6.566967  0.360982     0.0     ...        5.996032    8.891425   10.373790   \n",
      "\n",
      "   gene_20524  gene_20525  gene_20526  gene_20527  gene_20528  gene_20529  \\\n",
      "0    7.220030    9.119813   12.003135    9.650743    8.921326    5.286759   \n",
      "1    6.256586    8.381612   12.674552   10.517059    9.397854    2.094168   \n",
      "2    5.401607    9.911597    9.045255    9.788359   10.090470    1.683023   \n",
      "3    8.942805    9.601208   11.392682    9.694814    9.684365    3.292001   \n",
      "4    7.181162    9.846910   11.922439    9.217749    9.461191    5.110372   \n",
      "\n",
      "   gene_20530  \n",
      "0         0.0  \n",
      "1         0.0  \n",
      "2         0.0  \n",
      "3         0.0  \n",
      "4         0.0  \n",
      "\n",
      "[5 rows x 20532 columns]\n",
      "Unnamed: 0     object\n",
      "gene_0        float64\n",
      "gene_1        float64\n",
      "gene_2        float64\n",
      "gene_3        float64\n",
      "gene_4        float64\n",
      "gene_5        float64\n",
      "gene_6        float64\n",
      "gene_7        float64\n",
      "gene_8        float64\n",
      "gene_9        float64\n",
      "gene_10       float64\n",
      "gene_11       float64\n",
      "gene_12       float64\n",
      "gene_13       float64\n",
      "gene_14       float64\n",
      "gene_15       float64\n",
      "gene_16       float64\n",
      "gene_17       float64\n",
      "gene_18       float64\n",
      "gene_19       float64\n",
      "gene_20       float64\n",
      "gene_21       float64\n",
      "gene_22       float64\n",
      "gene_23       float64\n",
      "gene_24       float64\n",
      "gene_25       float64\n",
      "gene_26       float64\n",
      "gene_27       float64\n",
      "gene_28       float64\n",
      "               ...   \n",
      "gene_20501    float64\n",
      "gene_20502    float64\n",
      "gene_20503    float64\n",
      "gene_20504    float64\n",
      "gene_20505    float64\n",
      "gene_20506    float64\n",
      "gene_20507    float64\n",
      "gene_20508    float64\n",
      "gene_20509    float64\n",
      "gene_20510    float64\n",
      "gene_20511    float64\n",
      "gene_20512    float64\n",
      "gene_20513    float64\n",
      "gene_20514    float64\n",
      "gene_20515    float64\n",
      "gene_20516    float64\n",
      "gene_20517    float64\n",
      "gene_20518    float64\n",
      "gene_20519    float64\n",
      "gene_20520    float64\n",
      "gene_20521    float64\n",
      "gene_20522    float64\n",
      "gene_20523    float64\n",
      "gene_20524    float64\n",
      "gene_20525    float64\n",
      "gene_20526    float64\n",
      "gene_20527    float64\n",
      "gene_20528    float64\n",
      "gene_20529    float64\n",
      "gene_20530    float64\n",
      "Length: 20532, dtype: object\n",
      "  Unnamed: 0 Class\n",
      "0   sample_0  PRAD\n",
      "1   sample_1  LUAD\n",
      "2   sample_2  PRAD\n",
      "3   sample_3  PRAD\n",
      "4   sample_4  BRCA\n",
      "Unnamed: 0    object\n",
      "Class         object\n",
      "dtype: object\n",
      "\n",
      "\n",
      "The shape of dataset:\n",
      "(801, 20531)\n",
      "(801, 2)\n",
      "['BRCA', 'COAD', 'KIRC', 'LUAD', 'PRAD']\n",
      "[t-SNE] Computing 121 nearest neighbors...\n"
     ]
    },
    {
     "name": "stderr",
     "output_type": "stream",
     "text": [
      "C:\\Users\\ziwei\\Anaconda3\\lib\\site-packages\\sklearn\\preprocessing\\label.py:95: DataConversionWarning: A column-vector y was passed when a 1d array was expected. Please change the shape of y to (n_samples, ), for example using ravel().\n",
      "  y = column_or_1d(y, warn=True)\n"
     ]
    },
    {
     "name": "stdout",
     "output_type": "stream",
     "text": [

      "[t-SNE] Indexed 801 samples in 0.782s...\n",
      "[t-SNE] Computed neighbors for 801 samples in 17.545s...\n",

      "[t-SNE] Computed conditional probabilities for sample 801 / 801\n",
      "[t-SNE] Mean sigma: 48.192174\n",
      "[t-SNE] KL divergence after 250 iterations with early exaggeration: 57.251804\n",
      "[t-SNE] Error after 300 iterations: 0.820377\n",

      "TSNE took at 24.95 seconds\n"

     ]
    },
    {
     "data": {
      "image/png": "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\n",
      "text/plain": [
       "<Figure size 432x288 with 2 Axes>"
      ]
     },
     "metadata": {},
     "output_type": "display_data"
    }
   ],
   "source": [
    "%matplotlib inline\n",
    "\n",
    "import pandas as pd\n",
    "import matplotlib.pyplot as plt\n",
    "import os.path\n",
    "import numpy as np\n",
    "from numpy import genfromtxt\n",
    "import time\n",
    "from sklearn.manifold import TSNE\n",
    "from sklearn.model_selection import train_test_split\n",
    "from sklearn.decomposition import PCA\n",
    "from sklearn.preprocessing import LabelEncoder\n",
    "\n",
    "data_path = \"../data/\"\n",
    "# load the dataset\n",
    "X = pd.read_csv(data_path + \"RNA_data/data.csv\")\n",
    "Y = pd.read_csv(data_path + \"RNA_data/labels.csv\")\n",
    "\n",
    "# basic overview of data dimension\n",
    "print(X.head())\n",
    "print(X.dtypes)\n",
    "print(Y.head())\n",
    "print(Y.dtypes)\n",
    "\n",
    "# convert dataframe into a numpy array\n",
    "X = X.dropna()\n",
    "# drop the first column which only contains strings\n",
    "X = X.drop(X.columns[X.columns.str.contains('unnamed', case=False)], axis=1)\n",
    "print(\"\\n\\nThe shape of dataset:\")\n",
    "print(X.shape)\n",
    "print(Y.shape)\n",
    "\n",
    "# label encode the multiple class string into integer values\n",
    "Y = Y.drop(Y.columns[0], axis=1)\n",
    "le = LabelEncoder()\n",
    "le.fit(Y)\n",
    "class_names = list(le.classes_)\n",
    "print(class_names)\n",
    "\n",
    "Y = Y.apply(LabelEncoder().fit_transform)\n",
    "Y_data = Y.values.flatten()\n",
    "\n",
    "# use TSNE to visualize the high dimension data in 2D\n",
    "t0 = time.time()\n",
    "tsne = TSNE(n_components=2, verbose=1, perplexity=40, n_iter=300, random_state=100)\n",
    "tsne_results = tsne.fit_transform(X)\n",
    "t1 = time.time()\n",
    "print(\"TSNE took at %.2f seconds\" % (t1 - t0))\n",
    "\n",
    "# visualize TSNE\n",
    "x_axis = tsne_results[:,0]\n",
    "y_axis = tsne_results[:,1]\n",
    "plt.scatter(x_axis, y_axis, c=Y_data, cmap=plt.cm.get_cmap(\"jet\", 100))\n",
    "plt.colorbar(ticks=range(10))\n",
    "plt.clim(-0.5, 9.5)\n",
    "plt.title(\"TSNE Visualization\")\n",
    "plt.show()"
   ]
  },
  {
   "cell_type": "markdown",
   "metadata": {
    "slideshow": {
     "slide_type": "-"
    }
   },
   "source": [
    "The TSNE algorithm is a dimension reduction algorithm that allows us to visualize high dimensional data in lower dimensions. We see that dataset form five clusters, which correlates with the five different tumor types."
   ]
  },
  {
   "cell_type": "markdown",
   "metadata": {},
   "source": [
    "## Split Dataset into Train and Test\n",
    "\n"
   ]
  },
  {
   "cell_type": "code",
   "execution_count": 2,
   "metadata": {
    "slideshow": {
     "slide_type": "-"
    }
   },
   "outputs": [],
   "source": [
    "# split data into training and testing set\n",
    "X_train, X_test, Y_train, Y_test \\\n",
<<<<<<< Updated upstream
    "    = train_test_split(X, Y, test_size=0.20, random_state=100, stratify=Y, shuffle=True)\n",
=======
    "    = train_test_split(X, Y, test_size=0.40, random_state=100, shuffle=\"true\", strat)\n",
>>>>>>> Stashed changes
    "\n",
    "# save the train and test csv files\n",
    "X_train.to_csv(data_path+\"X_train.csv\")\n",
    "X_test.to_csv(data_path+\"X_test.csv\")\n",
    "Y_train.to_csv(data_path+\"Y_train.csv\")\n",
    "Y_test.to_csv(data_path+\"Y_test.csv\")"
   ]
  },
  {
   "cell_type": "markdown",
   "metadata": {},
   "source": [
    "## Data Preprocessing\n",
    "\n",
    "In order for the dataset to feed into machine learning algorithms, every feature and label intended for machine learning should be numerical and scaled appropriately. In the previous step, we have transformed the labels into numerical values in preparing for t-SNE. The RNA expression features are already expressed in float numbers. Scaling is not necessary here because all feature data came from microarray measures. The only operation we need to perform is transforming panda data frame into arrays."
   ]
  },
  {
   "cell_type": "code",
   "execution_count": 3,
   "metadata": {},
   "outputs": [],
   "source": [
    "# load the training data\n",
    "X_train = pd.read_csv(data_path+\"X_train.csv\").values\n",
    "Y_train = pd.read_csv(data_path+\"Y_train.csv\").values\n",
    "\n",
    "X_test = pd.read_csv(data_path+\"X_test.csv\").values\n",
    "Y_test = pd.read_csv(data_path+\"Y_test.csv\").values\n",
    "\n",
    "# transform panda df into arrays\n",
    "X_train = np.delete(X_train, 0, axis=1)\n",
    "Y_train = np.delete(Y_train, 0, axis=1).flatten()\n",
    "\n",
    "X_test = np.delete(X_test, 0, axis=1)\n",
    "Y_test = np.delete(Y_test, 0, axis=1).flatten()"
   ]
  },
  {
   "cell_type": "markdown",
   "metadata": {},
   "source": [
    "## Machine Learning Models\n",
    "\n",
    "Considering the high dimensionalities nature of the problem, a basic linear classifier would have a hard time to come up with a clear boundary for classification. I chose four models that may be effective to work with high dimensional data. Then, I run grid search to find the optimal parameters for each model.\n",
    "\n",
    "###  Linear Support Vector Machine (SGD)\n",
    "\n",
    "It implements a linear support vector machine model using `hinge` loss function. It allows for minibatch learning, which means the model will continue to learn based on its learning rate, until the maximum iterations is reached or model stop improving\n",
    "- penalty: default is `l2`, which is not suitable for high dimensional data. `elasticnet` and `l1` may overcome this problem by introducing sparsity in the feature space\n",
    "- alpha: constant that multipilies the regularization term. Also determines learning rate when learning rate is set to optimal. Values tested are 0.0001, 0.5, 1, 5, 50, 100, 200, and 500\n",
    "- learning rate: can be constant, optimal or invscaling. Left at default optimal\n",
    "\n",
    "### Non-linear Support Vector Machine (SVC)\n",
    "\n",
    "Grid searched for three different non-linear kernel including `rbf`, `sigmoid`, and `poly`. Other parameters tuned including\n",
    "- C: error term. Values test are 1, 10, 100, 1000\n",
    "- gamma: kernel coefficient. Values tested are 0.001, 0.0001, and 0.00001\n",
    "\n",
    "### Random Forest\n",
    "\n",
    "Random Forest is an algorithm that excels at finding complex hidden patterns in the data. It uses a collect of decision trees to fit, then use the average to improve predictive accuracy. The two parameters I set are n estimator and max leaf nodes. \n",
    "- n estimator: the maximum number of tree. Values tested are 10, 20, and 50\n",
    "- max leaf nodes: the maximum of leaf nodes. Values tested are 50, 100, 150 ,and 200\n",
    "\n",
    "### Neural Network MLP\n",
    "\n",
    "A multi-layer perceptron algorithm is used. It trains using backpropagation and supports multi-class classification by applying softmax as output function. It has the most options for parameter tuning\n",
    "- hidden layer size: the number of hidden layers. values tested are 50, 100, 150, and 200\n",
    "- alpha: L2 penalty (regularization term). Values tested are 0.0001, 0.0005, 0.001, and 0.005\n",
    "- activation: activation function for hidden layer. Options tested are `relu`, `tanh`, and `identity`\n",
    "- solver: the solver for weight optimization. `lbfgs` is optimal for smaller sample size. `Adam` is more suited for larger sample size. `sgd` refers to stochastic gradient descent\n",
    "- learning rate: sets the update schedule, `adaptive` keeps initial rate as long as training loss keep decreasing and decrease the rate when training loss goes up. Other two learning rate tested are `constant` and `invscaling`. For time efficiency, this parameter is left at default optimal"
   ]
  },
  {
   "cell_type": "code",
   "execution_count": 4,
   "metadata": {},
   "outputs": [
    {
     "name": "stdout",
     "output_type": "stream",
     "text": [
      "Parameter tuning starts...\n",
      "Best params for sgd: {'alpha': 0.5, 'penalty': 'elasticnet'} \n",
      "\n",
      "Best params for svm: {'C': 1, 'gamma': 0.001, 'kernel': 'poly'} \n",
      "\n",
      "Best params for rf: {'max_leaf_nodes': 50, 'n_estimators': 10} \n",
      "\n",
      "Best params for nn: {'activation': 'relu', 'alpha': 0.0001, 'hidden_layer_sizes': 200} \n",
      "\n"
     ]
    }
   ],
   "source": [
    "import pandas as pd\n",
    "import time\n",
    "import numpy as np\n",
    "from sklearn import svm, ensemble, linear_model\n",
    "from sklearn.model_selection import KFold, cross_val_score\n",
    "from sklearn.neural_network import MLPClassifier\n",
    "from sklearn.model_selection import GridSearchCV\n",
    "\n",
    "# define the models\n",
    "sgd_clf = linear_model.SGDClassifier(random_state=100, n_jobs=-1, max_iter=5)\n",
    "svm_clf = svm.SVC(random_state=100)\n",
    "rf_clf = ensemble.RandomForestClassifier(random_state=100, n_jobs=-1)\n",
    "nn_clf = MLPClassifier(random_state=100)\n",
    "\n",
    "# paremeter tuning for sgd, by default sgd fits a linear svm\n",
    "print(\"Parameter tuning starts...\")\n",
    "parameters = {\n",
    "    'alpha': [0.0001, 0.5, 1, 5, 50, 100, 200, 500],\n",
    "    'penalty': ('l2', 'l1', 'elasticnet'),\n",
    "}\n",
    "sgd_clf = GridSearchCV(estimator=sgd_clf, param_grid=parameters).fit(X_train, Y_train)\n",
    "print(\"Best params for sgd:\", sgd_clf.best_params_, '\\n')\n",
    "\n",
    "# parameter tuning for non-linear svm kernel\n",
    "parameters = {\n",
    "    'C': [1, 10, 100, 1000],\n",
    "    'gamma': [0.001, 0.0001, 0.00001],\n",
    "    'kernel': ('poly', 'rbf', 'sigmoid')\n",
    "}\n",
    "svm_clf = GridSearchCV(estimator=svm_clf, param_grid=parameters).fit(X_train, Y_train)\n",
    "print(\"Best params for svm:\", svm_clf.best_params_, '\\n')\n",
    "\n",
    "# parameter tuning for random forest\n",
    "parameters = {\n",
    "    'n_estimators': [10, 20, 50],\n",
    "    'max_leaf_nodes': [50, 100, 150, 200]\n",
    "}\n",
    "rf_clf = GridSearchCV(estimator=rf_clf, param_grid=parameters).fit(X_train, Y_train)\n",
    "print(\"Best params for rf:\", rf_clf.best_params_, '\\n')\n",
    "\n",
    "# parameter tuning for neural network\n",
    "parameters = {\n",
    "    'hidden_layer_sizes': [50, 100, 150, 200],\n",
    "    'alpha': [0.0001, 0.0005, 0.001, 0.005],\n",
    "    'activation': ('relu', 'tanh', 'identity'),\n",
    "}\n",
    "nn_clf = GridSearchCV(estimator=nn_clf, param_grid=parameters).fit(X_train, Y_train)\n",
    "print(\"Best params for nn:\", nn_clf.best_params_, '\\n')"
   ]
  },
  {
   "cell_type": "markdown",
   "metadata": {},
   "source": [
    "After the optimal parameters has been tuning for each model. We can evaulate each model's performance by using cross validation on the training set. "
   ]
  },
  {
   "cell_type": "markdown",
   "metadata": {},
   "source": [
    "## Cross Validation \n",
    "K-fold cross validation is used to evaluate the performance of each model without touching the test dataset. Number of folds is set to 5. The dataset is partitioned into 5 sets, with 1 set being the testing data and rest 4 being the training data until all sets have taken turns. An alternative approach would be using leave one out, but it is much more computational intensive."
   ]
  },
  {
   "cell_type": "code",
   "execution_count": 5,
   "metadata": {},
   "outputs": [
    {
     "name": "stdout",
     "output_type": "stream",
     "text": [
      "Linear SVM score: 1.000000\n",
      "\n",
      "Non-linear SVM score: 1.000000\n",
      "\n",
      "Random Forest score: 0.996875\n",
      "\n",
      "MPL Neural Network score: 0.992174\n",
      "\n",
      "\n"
     ]
    }
   ],
   "source": [
    "# cross validation to select the best model\n",
    "def kfold_model_score(model, X_train, Y_train, numFolds=5):\n",
    "    k_fold_shuttle = KFold(n_splits=numFolds, random_state=100).get_n_splits(X_train, Y_train)\n",
    "    return np.mean(cross_val_score(model, X_train, Y_train, cv=k_fold_shuttle))\n",
    "\n",
    "\n",
    "sgd_clf_score = kfold_model_score(sgd_clf, X_train, Y_train)\n",
    "print(\"Linear SVM score: {:5f}\\n\".format(sgd_clf_score.mean()))\n",
    "\n",
    "svm_score = kfold_model_score(svm_clf, X_train, Y_train)\n",
    "print(\"Non-linear SVM score: {:5f}\\n\".format(svm_score.mean()))\n",
    "\n",
    "rf_score = kfold_model_score(rf_clf, X_train, Y_train)\n",
    "print(\"Random Forest score: {:5f}\\n\".format(rf_score.mean()))\n",
    "\n",
    "nn_score = kfold_model_score(nn_clf, X_train, Y_train)\n",
    "print(\"MPL Neural Network score: {:5f}\\n\\n\".format(nn_score.mean()))"
   ]
  },
  {
   "cell_type": "markdown",
   "metadata": {},
   "source": [
    "## Model Training\n",
    "\n",
    "With the information from cross validation, we see that linear-SVM, non-linear-SVM, and random forest all have very similar scores. We should train each model with training data, and then evaluate them with the testing data. The duration for training each model is measured to provided some ideas on the computational cost of each model. "
   ]
  },
  {
   "cell_type": "code",
   "execution_count": 6,
   "metadata": {},
   "outputs": [
    {
     "name": "stdout",
     "output_type": "stream",
     "text": [
      "sgd_clf training took 63.29 seconds\n",
      "\n",
      "SVM training took 753.92 seconds\n",
      "\n",
      "Random Forest training took 34.46 seconds\n",
      "\n",
      "Neural Network fitting took at 987.55 seconds\n",
      "\n"
     ]
    }
   ],
   "source": [
    "# Fit the models\n",
    "t0 = time.time()\n",
    "sgd_clf = sgd_clf.fit(X_train, Y_train)\n",
    "t1 = time.time()\n",
    "print(\"sgd_clf training took %.2f seconds\\n\" % (t1 - t0))\n",
    "\n",
    "t0 = time.time()\n",
    "svm_clf = svm_clf.fit(X_train, Y_train)\n",
    "t1 = time.time()\n",
    "print(\"SVM training took %.2f seconds\\n\" % (t1 - t0))\n",
    "\n",
    "t0 = time.time()\n",
    "rf_clf = rf_clf.fit(X_train, Y_train)\n",
    "t1 = time.time()\n",
    "print(\"Random Forest training took %.2f seconds\\n\" % (t1 - t0))\n",
    "\n",
    "t0 = time.time()\n",
    "nn_clf = nn_clf.fit(X_train, Y_train)\n",
    "t1 = time.time()\n",
    "print(\"Neural Network fitting took at %.2f seconds\\n\" % (t1 - t0))"
   ]
  },
  {
   "cell_type": "markdown",
   "metadata": {},
   "source": [
    "## Model Evaluation \n",
    "\n",
    "We can now use the models to predict the test data and evaluate their effectiveness. For multiclass problems, two score metrics used are Jaccard similarity coefficient and confusion matrix. Jaccard similarity coefficient measures the similarities between predicted classes and actual classes. Confusion matrix communciates the precision and recall of the predictions."
   ]
  },
  {
   "cell_type": "code",
   "execution_count": 7,
   "metadata": {},
   "outputs": [
    {
     "name": "stdout",
     "output_type": "stream",
     "text": [
      "Jaccard similarity scores: \n",
      "SGD Jaccard similarity score: 1.000000\n",
      "\n",
      "SVM Jaccard similarity : 0.987578\n",
      "\n",
      "Random Forest Jaccard similarity score: 0.975155\n",
      "\n",
      "Neural Net Jaccard similarity score: 0.987578\n",
      "\n",
      "Confusion matrix plots\n",
      "Confusion matrix, without normalization\n",
      "[[60  0  0  0  0]\n",
      " [ 0 16  0  0  0]\n",
      " [ 0  0 30  0  0]\n",
      " [ 0  0  0 28  0]\n",
      " [ 0  0  0  0 27]]\n"
     ]
    },
    {
     "data": {
      "image/png": "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\n",
      "text/plain": [
       "<Figure size 432x288 with 2 Axes>"
      ]
     },
     "metadata": {},
     "output_type": "display_data"
    },
    {
     "name": "stdout",
     "output_type": "stream",
     "text": [
      "Confusion matrix, without normalization\n",
      "[[60  0  0  0  0]\n",
      " [ 0 16  0  0  0]\n",
      " [ 0  0 30  0  0]\n",
      " [ 2  0  0 26  0]\n",
      " [ 0  0  0  0 27]]\n"
     ]
    },
    {
     "data": {
      "image/png": "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\n",
      "text/plain": [
       "<Figure size 432x288 with 2 Axes>"
      ]
     },
     "metadata": {},
     "output_type": "display_data"
    },
    {
     "name": "stdout",
     "output_type": "stream",
     "text": [
      "Confusion matrix, without normalization\n",
      "[[59  0  0  1  0]\n",
      " [ 0 16  0  0  0]\n",
      " [ 0  0 30  0  0]\n",
      " [ 3  0  0 25  0]\n",
      " [ 0  0  0  0 27]]\n"
     ]
    },
    {
     "data": {
      "image/png": "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\n",
      "text/plain": [
       "<Figure size 432x288 with 2 Axes>"
      ]
     },
     "metadata": {},
     "output_type": "display_data"
    },
    {
     "name": "stdout",
     "output_type": "stream",
     "text": [
      "Confusion matrix, without normalization\n",
      "[[60  0  0  0  0]\n",
      " [ 0 16  0  0  0]\n",
      " [ 0  0 30  0  0]\n",
      " [ 1  0  1 26  0]\n",
      " [ 0  0  0  0 27]]\n"
     ]
    },
    {
     "data": {
      "image/png": "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\n",
      "text/plain": [
       "<Figure size 432x288 with 2 Axes>"
      ]
     },
     "metadata": {},
     "output_type": "display_data"
    }
   ],
   "source": [
    "import itertools\n",
    "from sklearn.metrics.classification import classification_report, jaccard_similarity_score, f1_score\n",
    "from sklearn.metrics import roc_curve, auc, confusion_matrix\n",
    "from sklearn import datasets\n",
    "from sklearn.multiclass import OneVsRestClassifier\n",
    "\n",
    "\n",
    "sgd_pred = sgd_clf.predict(X_test)\n",
    "svm_pred = svm_clf.predict(X_test)\n",
    "rf_pred = rf_clf.predict(X_test)\n",
    "nn_pred = nn_clf.predict(X_test)\n",
    "\n",
    "# measure and output accuracy\n",
    "print(\"Jaccard similarity scores: \")\n",
    "sgd_score = jaccard_similarity_score(Y_test, sgd_pred)\n",
    "svm_score = jaccard_similarity_score(Y_test, svm_pred)\n",
    "rf_score = jaccard_similarity_score(Y_test, rf_pred)\n",
    "nn_score = jaccard_similarity_score(Y_test, nn_pred)\n",
    "print(\"SGD Jaccard similarity score: {:5f}\".format(sgd_score))\n",
    "print(\"SVM Jaccard similarity : {:5f}\".format(svm_score))\n",
    "print(\"Random Forest Jaccard similarity score: {:5f}\".format(rf_score))\n",
    "print(\"Neural Net Jaccard similarity score: {:5f}\".format(nn_score))\n",
    "\n",
    "# plot confusion matrix\n",
    "def plot_confusion_matrix(cm, classes,\n",
    "                          normalize=False,\n",
    "                          title='Confusion matrix',\n",
    "                          cmap=plt.cm.Blues):\n",
    "    \"\"\"\n",
    "    This function prints and plots the confusion matrix.\n",
    "    Normalization can be applied by setting `normalize=True`.\n",
    "    \"\"\"\n",
    "    if normalize:\n",
    "        cm = cm.astype('float') / cm.sum(axis=1)[:, np.newaxis]\n",
    "        print(\"Normalized confusion matrix\")\n",
    "    else:\n",
    "        print('Confusion matrix, without normalization')\n",
    "    print(cm)\n",
    "\n",
    "    plt.imshow(cm, interpolation='nearest', cmap=cmap)\n",
    "    plt.title(title)\n",
    "    plt.colorbar()\n",
    "    tick_marks = np.arange(len(classes))\n",
    "    plt.xticks(tick_marks, classes, rotation=45)\n",
    "    plt.yticks(tick_marks, classes)\n",
    "\n",
    "    fmt = '.2f' if normalize else 'd'\n",
    "    thresh = cm.max() / 2.\n",
    "    for i, j in itertools.product(range(cm.shape[0]), range(cm.shape[1])):\n",
    "        plt.text(j, i, format(cm[i, j], fmt),\n",
    "                 horizontalalignment=\"center\",\n",
    "                 color=\"white\" if cm[i, j] > thresh else \"black\")\n",
    "\n",
    "    plt.tight_layout()\n",
    "    plt.ylabel('True label')\n",
    "    plt.xlabel('Predicted label')\n",
    "    \n",
    "print(\"Confusion matrix plots\")\n",
    "# SGD\n",
    "sgd_matrix = confusion_matrix(Y_test, sgd_pred)\n",
    "np.set_printoptions(precision=2)\n",
    "plt.figure()\n",
    "plot_confusion_matrix(sgd_matrix, classes=class_names,title='SGD')\n",
    "plt.show()\n",
    "\n",
    "# SVM\n",
    "svm_matrix = confusion_matrix(Y_test, svm_pred)\n",
    "np.set_printoptions(precision=2)\n",
    "plt.figure()\n",
    "plot_confusion_matrix(svm_matrix, classes=class_names,title='SVM')\n",
    "plt.show()\n",
    "\n",
    "# RF\n",
    "rf_matrix = confusion_matrix(Y_test, rf_pred)\n",
    "np.set_printoptions(precision=2)\n",
    "plt.figure()\n",
    "plot_confusion_matrix(rf_matrix, classes=class_names,title='Random Forest')\n",
    "plt.show()\n",
    "\n",
    "# NN\n",
    "nn_matrix = confusion_matrix(Y_test, nn_pred)\n",
    "np.set_printoptions(precision=2)\n",
    "plt.figure()\n",
    "plot_confusion_matrix(nn_matrix, classes=class_names,title='Neural Network')\n",
    "plt.show()"
   ]
  },
  {
   "cell_type": "markdown",
   "metadata": {},
   "source": [
    "## Results\n",
    "All four modeled performed well on the testing dataset. SGD or linear SVM performs the best with 100% classification accuracy. Random forest, Neural network, and non-linear SVM performed slightly worse. In terms of training time, random forest stands out as the fastest model to train follows by SVM. For future work, I would like to test the models on other high dimensional problems. "
   ]
  }
 ],
 "metadata": {
  "kernelspec": {
   "display_name": "Python 3",
   "language": "python",
   "name": "python3"
  },
  "language_info": {
   "codemirror_mode": {
    "name": "ipython",
    "version": 3
   },
   "file_extension": ".py",
   "mimetype": "text/x-python",
   "name": "python",
   "nbconvert_exporter": "python",
   "pygments_lexer": "ipython3",
   "version": "3.6.5"
  }
 },
 "nbformat": 4,
 "nbformat_minor": 2
}
