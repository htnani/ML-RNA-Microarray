{
 "cells": [
  {
   "cell_type": "markdown",
   "metadata": {},
   "source": [
    "# RNA Microarray Machine Learning\n",
    "\n",
    "- Data source is from UCI Machine Learning Repo [https://archive.ics.uci.edu/ml/datasets/gene+expression+cancer+RNA-Seq]\n",
    "- The dataset is a collection gene expressions of patients having different types of tumor: BRCA(breast), KIRC(kidney), COAD(colon), LUAD(lung) and PRAD(prostate).\n",
    "\n",
    "\n",
    "## Import Data and Exploration\n",
    "The dataset contains 801 instances and 20531 features. It is a high dimensional low sample size dataset with multiple classes. The first step of the project is importing the dataset and perform some explorations of the dataset to gain some basic understanding. In terms of visualizations, it is difficult to visualize because of high dimensions. t -Distributed Stochastic Neighbor Embedding or t-SNE is a technique that I used to perform dimension reduction to visualize the data in 2D.\n",
    "\n",
    "\n"
   ]
  },
  {
   "cell_type": "code",
   "execution_count": 56,
   "metadata": {},
   "outputs": [
    {
     "name": "stdout",
     "output_type": "stream",
     "text": [
      "  Unnamed: 0  gene_0    gene_1    gene_2    gene_3     gene_4  gene_5  \\\n",
      "0   sample_0     0.0  2.017209  3.265527  5.478487  10.431999     0.0   \n",
      "1   sample_1     0.0  0.592732  1.588421  7.586157   9.623011     0.0   \n",
      "2   sample_2     0.0  3.511759  4.327199  6.881787   9.870730     0.0   \n",
      "3   sample_3     0.0  3.663618  4.507649  6.659068  10.196184     0.0   \n",
      "4   sample_4     0.0  2.655741  2.821547  6.539454   9.738265     0.0   \n",
      "\n",
      "     gene_6    gene_7  gene_8     ...      gene_20521  gene_20522  gene_20523  \\\n",
      "0  7.175175  0.591871     0.0     ...        4.926711    8.210257    9.723516   \n",
      "1  6.816049  0.000000     0.0     ...        4.593372    7.323865    9.740931   \n",
      "2  6.972130  0.452595     0.0     ...        5.125213    8.127123   10.908640   \n",
      "3  7.843375  0.434882     0.0     ...        6.076566    8.792959   10.141520   \n",
      "4  6.566967  0.360982     0.0     ...        5.996032    8.891425   10.373790   \n",
      "\n",
      "   gene_20524  gene_20525  gene_20526  gene_20527  gene_20528  gene_20529  \\\n",
      "0    7.220030    9.119813   12.003135    9.650743    8.921326    5.286759   \n",
      "1    6.256586    8.381612   12.674552   10.517059    9.397854    2.094168   \n",
      "2    5.401607    9.911597    9.045255    9.788359   10.090470    1.683023   \n",
      "3    8.942805    9.601208   11.392682    9.694814    9.684365    3.292001   \n",
      "4    7.181162    9.846910   11.922439    9.217749    9.461191    5.110372   \n",
      "\n",
      "   gene_20530  \n",
      "0         0.0  \n",
      "1         0.0  \n",
      "2         0.0  \n",
      "3         0.0  \n",
      "4         0.0  \n",
      "\n",
      "[5 rows x 20532 columns]\n",
      "Unnamed: 0     object\n",
      "gene_0        float64\n",
      "gene_1        float64\n",
      "gene_2        float64\n",
      "gene_3        float64\n",
      "gene_4        float64\n",
      "gene_5        float64\n",
      "gene_6        float64\n",
      "gene_7        float64\n",
      "gene_8        float64\n",
      "gene_9        float64\n",
      "gene_10       float64\n",
      "gene_11       float64\n",
      "gene_12       float64\n",
      "gene_13       float64\n",
      "gene_14       float64\n",
      "gene_15       float64\n",
      "gene_16       float64\n",
      "gene_17       float64\n",
      "gene_18       float64\n",
      "gene_19       float64\n",
      "gene_20       float64\n",
      "gene_21       float64\n",
      "gene_22       float64\n",
      "gene_23       float64\n",
      "gene_24       float64\n",
      "gene_25       float64\n",
      "gene_26       float64\n",
      "gene_27       float64\n",
      "gene_28       float64\n",
      "               ...   \n",
      "gene_20501    float64\n",
      "gene_20502    float64\n",
      "gene_20503    float64\n",
      "gene_20504    float64\n",
      "gene_20505    float64\n",
      "gene_20506    float64\n",
      "gene_20507    float64\n",
      "gene_20508    float64\n",
      "gene_20509    float64\n",
      "gene_20510    float64\n",
      "gene_20511    float64\n",
      "gene_20512    float64\n",
      "gene_20513    float64\n",
      "gene_20514    float64\n",
      "gene_20515    float64\n",
      "gene_20516    float64\n",
      "gene_20517    float64\n",
      "gene_20518    float64\n",
      "gene_20519    float64\n",
      "gene_20520    float64\n",
      "gene_20521    float64\n",
      "gene_20522    float64\n",
      "gene_20523    float64\n",
      "gene_20524    float64\n",
      "gene_20525    float64\n",
      "gene_20526    float64\n",
      "gene_20527    float64\n",
      "gene_20528    float64\n",
      "gene_20529    float64\n",
      "gene_20530    float64\n",
      "Length: 20532, dtype: object\n",
      "  Unnamed: 0 Class\n",
      "0   sample_0  PRAD\n",
      "1   sample_1  LUAD\n",
      "2   sample_2  PRAD\n",
      "3   sample_3  PRAD\n",
      "4   sample_4  BRCA\n",
      "Unnamed: 0    object\n",
      "Class         object\n",
      "dtype: object\n",
      "\n",
      "\n",
      "The shape of dataset:\n",
      "(801, 20531)\n",
      "(801, 2)\n",
      "['BRCA', 'COAD', 'KIRC', 'LUAD', 'PRAD']\n",
      "[t-SNE] Computing 121 nearest neighbors...\n"
     ]
    },
    {
     "name": "stderr",
     "output_type": "stream",
     "text": [
      "/Users/ziweiwu/anaconda3/lib/python3.6/site-packages/sklearn/preprocessing/label.py:95: DataConversionWarning: A column-vector y was passed when a 1d array was expected. Please change the shape of y to (n_samples, ), for example using ravel().\n",
      "  y = column_or_1d(y, warn=True)\n"
     ]
    },
    {
     "name": "stdout",
     "output_type": "stream",
     "text": [
      "[t-SNE] Indexed 801 samples in 0.602s...\n",
      "[t-SNE] Computed neighbors for 801 samples in 21.182s...\n",
      "[t-SNE] Computed conditional probabilities for sample 801 / 801\n",
      "[t-SNE] Mean sigma: 48.192174\n",
      "[t-SNE] KL divergence after 250 iterations with early exaggeration: 57.251804\n",
      "[t-SNE] Error after 300 iterations: 0.820377\n",
      "TSNE took at 29.41 seconds\n"
     ]
    },
    {
     "data": {
      "image/png": "[encoded data removed]",
      "text/plain": [
       "<Figure size 432x288 with 2 Axes>"
      ]
     },
     "metadata": {},
     "output_type": "display_data"
    }
   ],
   "source": [
    "%matplotlib inline\n",
    "\n",
    "import pandas as pd\n",
    "import matplotlib.pyplot as plt\n",
    "import os.path\n",
    "import numpy as np\n",
    "from numpy import genfromtxt\n",
    "import time\n",
    "from sklearn.manifold import TSNE\n",
    "from sklearn.model_selection import train_test_split\n",
    "from sklearn.decomposition import PCA\n",
    "from sklearn.preprocessing import LabelEncoder\n",
    "\n",
    "data_path = \"../data/\"\n",
    "# load the dataset\n",
    "X = pd.read_csv(data_path + \"RNA_data/data.csv\")\n",
    "Y = pd.read_csv(data_path + \"RNA_data/labels.csv\")\n",
    "\n",
    "# basic overview of data dimension\n",
    "print(X.head())\n",
    "print(X.dtypes)\n",
    "print(Y.head())\n",
    "print(Y.dtypes)\n",
    "\n",
    "# convert dataframe into a numpy array\n",
    "X = X.dropna()\n",
    "# drop the first column which only contains strings\n",
    "X = X.drop(X.columns[X.columns.str.contains('unnamed', case=False)], axis=1)\n",
    "print(\"\\n\\nThe shape of dataset:\")\n",
    "print(X.shape)\n",
    "print(Y.shape)\n",
    "\n",
    "# label encode the multiple class string into integer values\n",
    "Y = Y.drop(Y.columns[0], axis=1)\n",
    "le = LabelEncoder()\n",
    "le.fit(Y)\n",
    "class_names = list(le.classes_)\n",
    "print(class_names)\n",
    "\n",
    "Y = Y.apply(LabelEncoder().fit_transform)\n",
    "#Y_data = Y.values.flatten()\n",
    "\n",
    "# use TSNE to visualize the high dimension data in 2D\n",
    "t0 = time.time()\n",
    "tsne = TSNE(n_components=2, verbose=1, perplexity=40, n_iter=300, random_state=100)\n",
    "tsne_results = tsne.fit_transform(X)\n",
    "t1 = time.time()\n",
    "print(\"TSNE took at %.2f seconds\" % (t1 - t0))\n",
    "\n",
    "# visualize TSNE\n",
    "x_axis = tsne_results[:,0]\n",
    "y_axis = tsne_results[:,1]\n",
    "plt.scatter(x_axis, y_axis, c=Y_data, cmap=plt.cm.get_cmap(\"jet\", 100))\n",
    "plt.colorbar(ticks=range(10))\n",
    "plt.clim(-0.5, 9.5)\n",
    "plt.title(\"TSNE Visualization\")\n",
    "plt.show()"
   ]
  },
  {
   "cell_type": "markdown",
   "metadata": {
    "slideshow": {
     "slide_type": "-"
    }
   },
   "source": [
    "The TSNE algorithm is a dimension reduction algorithm that allows us to visualize high dimensional data in lower dimensions. We see that dataset form five clusters, which correlates with the five different tumor types."
   ]
  },
  {
   "cell_type": "markdown",
   "metadata": {},
   "source": [
    "## Split Dataset into Train and Test\n",
    "\n"
   ]
  },
  {
   "cell_type": "code",
   "execution_count": 2,
   "metadata": {
    "slideshow": {
     "slide_type": "-"
    }
   },
   "outputs": [],
   "source": [
    "# split data into training and testing set\n",
    "X_train, X_test, Y_train, Y_test \\\n",
    "    = train_test_split(X, Y, test_size=0.40, random_state=100)\n",
    "\n",
    "# save the train and test csv files\n",
    "X_train.to_csv(data_path+\"X_train.csv\")\n",
    "X_test.to_csv(data_path+\"X_test.csv\")\n",
    "Y_train.to_csv(data_path+\"Y_train.csv\")\n",
    "Y_test.to_csv(data_path+\"Y_test.csv\")"
   ]
  },
  {
   "cell_type": "markdown",
   "metadata": {},
   "source": [
    "## Data Preprocessing\n",
    "\n",
    "In order for the dataset to feed into machine learning algorithms, every feature and label intended for machine learning should be numerical and scaled appropriately. In the previous step, we have transformed the labels into numerical values in preparing for t-SNE. The RNA expression features are already expressed in float numbers. Scaling is not necessary here because all feature data came from microarray measures. The only operation we need to perform is transforming panda data frame into arrays."
   ]
  },
  {
   "cell_type": "code",
   "execution_count": 3,
   "metadata": {},
   "outputs": [],
   "source": [
    "# load the training data\n",
    "X_train = pd.read_csv(data_path+\"X_train.csv\").values\n",
    "Y_train = pd.read_csv(data_path+\"Y_train.csv\").values\n",
    "\n",
    "X_test = pd.read_csv(data_path+\"X_test.csv\").values\n",
    "Y_test = pd.read_csv(data_path+\"Y_test.csv\").values\n",
    "\n",
    "# transform panda df into arrays\n",
    "X_train = np.delete(X_train, 0, axis=1)\n",
    "Y_train = np.delete(Y_train, 0, axis=1).flatten()\n",
    "\n",
    "X_test = np.delete(X_test, 0, axis=1)\n",
    "Y_test = np.delete(Y_test, 0, axis=1).flatten()"
   ]
  },
  {
   "cell_type": "markdown",
   "metadata": {},
   "source": [
    "## Machine Learning Models\n",
    "\n",
    "Considering the high dimensionalities nature of the problem, a basic linear classifier would have a hard time to come up with a clear boundary for classification. I chose four models that may be effective to work with high dimensional data. Then, I run grid search to find the optimal parameters for each model.\n",
    "\n",
    "###  Linear Support Vector Machine (SGD)\n",
    "\n",
    "It implements a linear support vector machine model using `hinge` loss function. It allows for minibatch learning, which means the model will continue to learn based on its learning rate, until the maximum iterations is reached or model stop improving\n",
    "- penalty: default is `l2`, which is not suitable for high dimensional data. `elasticnet` and `l1` may overcome this problem by introducing sparsity in the feature space\n",
    "- alpha: constant that multipilies the regularization term. Also determines learning rate when learning rate is set to optimal. Values tested are 0.0001, 0.5, 1, 5, 50, 100, 200, and 500\n",
    "- learning rate: can be constant, optimal or invscaling. Left at default optimal\n",
    "\n",
    "### Non-linear Support Vector Machine (SVC)\n",
    "\n",
    "Grid searched for three different non-linear kernel including `rbf`, `sigmoid`, and `poly`. Other parameters tuned including\n",
    "- C: error term. Values test are 1, 10, 100, 1000\n",
    "- gamma: kernel coefficient. Values tested are 0.001, 0.0001, and 0.00001\n",
    "\n",
    "### Random Forest\n",
    "\n",
    "Random Forest is an algorithm that excels at finding complex hidden patterns in the data. It uses a collect of decision trees to fit, then use the average to improve predictive accuracy. The two parameters I set are n estimator and max leaf nodes. \n",
    "- n estimator: the maximum number of tree. Values tested are 10, 20, and 50\n",
    "- max leaf nodes: the maximum of leaf nodes. Values tested are 50, 100, 150 ,and 200\n",
    "\n",
    "### Neural Network MLP\n",
    "\n",
    "A multi-layer perceptron algorithm is used. It trains using backpropagation and supports multi-class classification by applying softmax as output function. It has the most options for parameter tuning\n",
    "- hidden layer size: the number of hidden layers. values tested are 50, 100, 150, and 200\n",
    "- alpha: L2 penalty (regularization term). Values tested are 0.0001, 0.0005, 0.001, and 0.005\n",
    "- activation: activation function for hidden layer. Options tested are `relu`, `tanh`, and `identity`\n",
    "- solver: the solver for weight optimization. `lbfgs` is optimal for smaller sample size. `Adam` is more suited for larger sample size. `sgd` refers to stochastic gradient descent\n",
    "- learning rate: sets the update schedule, `adaptive` keeps initial rate as long as training loss keep decreasing and decrease the rate when training loss goes up. Other two learning rate tested are `constant` and `invscaling`. For time efficiency, this parameter is left at default optimal"
   ]
  },
  {
   "cell_type": "code",
   "execution_count": 4,
   "metadata": {},
   "outputs": [
    {
     "name": "stdout",
     "output_type": "stream",
     "text": [
      "Parameter tuning starts...\n",
      "Best params for sgd: {'alpha': 0.5, 'penalty': 'elasticnet'} \n",
      "\n",
      "Best params for svm: {'C': 1, 'gamma': 0.001, 'kernel': 'poly'} \n",
      "\n",
      "Best params for rf: {'max_leaf_nodes': 50, 'n_estimators': 50} \n",
      "\n",
      "Best params for nn: {'activation': 'relu', 'alpha': 0.001, 'hidden_layer_sizes': 200} \n",
      "\n"
     ]
    }
   ],
   "source": [
    "import pandas as pd\n",
    "import time\n",
    "import numpy as np\n",
    "from sklearn import svm, ensemble, linear_model\n",
    "from sklearn.model_selection import KFold, cross_val_score\n",
    "from sklearn.neural_network import MLPClassifier\n",
    "from sklearn.model_selection import GridSearchCV\n",
    "\n",
    "# define the models\n",
    "sgd_clf = linear_model.SGDClassifier(random_state=100, n_jobs=-1, max_iter=5)\n",
    "svm_clf = svm.SVC(random_state=100)\n",
    "rf_clf = ensemble.RandomForestClassifier(random_state=100, n_jobs=-1)\n",
    "nn_clf = MLPClassifier(random_state=100)\n",
    "\n",
    "# paremeter tuning for sgd, by default sgd fits a linear svm\n",
    "print(\"Parameter tuning starts...\")\n",
    "parameters = {\n",
    "    'alpha': [0.0001, 0.5, 1, 5, 50, 100, 200, 500],\n",
    "    'penalty': ('l2', 'l1', 'elasticnet'),\n",
    "}\n",
    "sgd_clf = GridSearchCV(estimator=sgd_clf, param_grid=parameters).fit(X_train, Y_train)\n",
    "print(\"Best params for sgd:\", sgd_clf.best_params_, '\\n')\n",
    "\n",
    "# parameter tuning for non-linear svm kernel\n",
    "parameters = {\n",
    "    'C': [1, 10, 100, 1000],\n",
    "    'gamma': [0.001, 0.0001, 0.00001],\n",
    "    'kernel': ('poly', 'rbf', 'sigmoid')\n",
    "}\n",
    "svm_clf = GridSearchCV(estimator=svm_clf, param_grid=parameters).fit(X_train, Y_train)\n",
    "print(\"Best params for svm:\", svm_clf.best_params_, '\\n')\n",
    "\n",
    "# parameter tuning for random forest\n",
    "parameters = {\n",
    "    'n_estimators': [10, 20, 50],\n",
    "    'max_leaf_nodes': [50, 100, 150, 200]\n",
    "}\n",
    "rf_clf = GridSearchCV(estimator=rf_clf, param_grid=parameters).fit(X_train, Y_train)\n",
    "print(\"Best params for rf:\", rf_clf.best_params_, '\\n')\n",
    "\n",
    "# parameter tuning for neural network\n",
    "parameters = {\n",
    "    'hidden_layer_sizes': [50, 100, 150, 200],\n",
    "    'alpha': [0.0001, 0.0005, 0.001, 0.005],\n",
    "    'activation': ('relu', 'tanh', 'identity'),\n",
    "}\n",
    "nn_clf = GridSearchCV(estimator=nn_clf, param_grid=parameters).fit(X_train, Y_train)\n",
    "print(\"Best params for nn:\", nn_clf.best_params_, '\\n')"
   ]
  },
  {
   "cell_type": "markdown",
   "metadata": {},
   "source": [
    "After the optimal parameters has been tuning for each model. We can evaulate each model's performance by using cross validation on the training set. "
   ]
  },
  {
   "cell_type": "markdown",
   "metadata": {},
   "source": [
    "## Cross Validation \n",
    "K-fold cross validation is used to evaluate the performance of each model without touching the test dataset. Number of folds is set to 5. The dataset is partitioned into 5 sets, with 1 set being the testing data and rest 4 being the training data until all sets have taken turns. An alternative approach would be using leave one out, but it is much more computational intensive."
   ]
  },
  {
   "cell_type": "code",
   "execution_count": 5,
   "metadata": {},
   "outputs": [
    {
     "name": "stdout",
     "output_type": "stream",
     "text": [
      "Linear SVM score: 0.989733\n",
      "\n",
      "Non-linear SVM score: 0.995876\n",
      "\n",
      "Random Forest score: 0.993814\n",
      "\n",
      "MPL Neural Network score: 0.983416\n",
      "\n",
      "\n"
     ]
    }
   ],
   "source": [
    "# cross validation to select the best model\n",
    "def kfold_model_score(model, X_train, Y_train, numFolds=5):\n",
    "    k_fold_shuttle = KFold(n_splits=numFolds, random_state=100).get_n_splits(X_train, Y_train)\n",
    "    return np.mean(cross_val_score(model, X_train, Y_train, cv=k_fold_shuttle))\n",
    "\n",
    "\n",
    "sgd_clf_score = kfold_model_score(sgd_clf, X_train, Y_train)\n",
    "print(\"Linear SVM score: {:5f}\\n\".format(sgd_clf_score.mean()))\n",
    "\n",
    "svm_score = kfold_model_score(svm_clf, X_train, Y_train)\n",
    "print(\"Non-linear SVM score: {:5f}\\n\".format(svm_score.mean()))\n",
    "\n",
    "rf_score = kfold_model_score(rf_clf, X_train, Y_train)\n",
    "print(\"Random Forest score: {:5f}\\n\".format(rf_score.mean()))\n",
    "\n",
    "nn_score = kfold_model_score(nn_clf, X_train, Y_train)\n",
    "print(\"MPL Neural Network score: {:5f}\\n\\n\".format(nn_score.mean()))"
   ]
  },
  {
   "cell_type": "markdown",
   "metadata": {},
   "source": [
    "## Model Training\n",
    "\n",
    "With the information from cross validation, we see that linear-SVM, non-linear-SVM, and random forest all have very similar scores. We should train each model with training data, and then evaluate them with the testing data. The duration for training each model is measured to provided some ideas on the computational cost of each model. "
   ]
  },
  {
   "cell_type": "code",
   "execution_count": 7,
   "metadata": {},
   "outputs": [
    {
     "name": "stdout",
     "output_type": "stream",
     "text": [
      "sgd_clf training took 68.00 seconds\n",
      "\n",
      "SVM training took 667.85 seconds\n",
      "\n",
      "Random Forest training took 44.11 seconds\n",
      "\n",
      "Neural Network fitting took at 924.10 seconds\n",
      "\n"
     ]
    }
   ],
   "source": [
    "# Fit the models\n",
    "t0 = time.time()\n",
    "sgd_clf = sgd_clf.fit(X_train, Y_train)\n",
    "t1 = time.time()\n",
    "print(\"sgd_clf training took %.2f seconds\\n\" % (t1 - t0))\n",
    "\n",
    "t0 = time.time()\n",
    "svm_clf = svm_clf.fit(X_train, Y_train)\n",
    "t1 = time.time()\n",
    "print(\"SVM training took %.2f seconds\\n\" % (t1 - t0))\n",
    "\n",
    "t0 = time.time()\n",
    "rf_clf = rf_clf.fit(X_train, Y_train)\n",
    "t1 = time.time()\n",
    "print(\"Random Forest training took %.2f seconds\\n\" % (t1 - t0))\n",
    "\n",
    "t0 = time.time()\n",
    "nn_clf = nn_clf.fit(X_train, Y_train)\n",
    "t1 = time.time()\n",
    "print(\"Neural Network fitting took at %.2f seconds\\n\" % (t1 - t0))"
   ]
  },
  {
   "cell_type": "markdown",
   "metadata": {},
   "source": [
    "## Model Evaluation \n",
    "\n",
    "We can now use the models to predict the test data and evaluate their effectiveness. For multiclass problems, two score metrics used are Jaccard similarity coefficient and f1 score. Jaccard similarity coefficient measures the similarities between predicted classes and actual classes. A classification report is generated for each model to examine its precision and recall"
   ]
  },
  {
   "cell_type": "code",
   "execution_count": 59,
   "metadata": {},
   "outputs": [
    {
     "name": "stdout",
     "output_type": "stream",
     "text": [
      "Jaccard similarity scores: \n",
      "SGD Jaccard similarity score: 1.000000\n",
      "\n",
      "SVM Jaccard similarity : 1.000000\n",
      "\n",
      "Random Forest Jaccard similarity score: 1.000000\n",
      "\n",
      "Neural Net Jaccard similarity score: 0.990654\n",
      "\n",
      "Confusion matrix plots\n",
      "Confusion matrix, without normalization\n",
      "[[112   0   0   0   0]\n",
      " [  0  27   0   0   0]\n",
      " [  0   0  58   0   0]\n",
      " [  0   0   0  62   0]\n",
      " [  0   0   0   0  62]]\n"
     ]
    },
    {
     "data": {
      "image/png": "[encoded data removed]",
      "text/plain": [
       "<Figure size 432x288 with 2 Axes>"
      ]
     },
     "metadata": {},
     "output_type": "display_data"
    },
    {
     "name": "stdout",
     "output_type": "stream",
     "text": [
      "Confusion matrix, without normalization\n",
      "[[112   0   0   0   0]\n",
      " [  0  27   0   0   0]\n",
      " [  0   0  58   0   0]\n",
      " [  0   0   0  62   0]\n",
      " [  0   0   0   0  62]]\n"
     ]
    },
    {
     "data": {
      "image/png": "[encoded data removed]",
      "text/plain": [
       "<Figure size 432x288 with 2 Axes>"
      ]
     },
     "metadata": {},
     "output_type": "display_data"
    },
    {
     "name": "stdout",
     "output_type": "stream",
     "text": [
      "Confusion matrix, without normalization\n",
      "[[112   0   0   0   0]\n",
      " [  0  27   0   0   0]\n",
      " [  0   0  58   0   0]\n",
      " [  0   0   0  62   0]\n",
      " [  0   0   0   0  62]]\n"
     ]
    },
    {
     "data": {
      "image/png": "[encoded data removed]",
      "text/plain": [
       "<Figure size 432x288 with 2 Axes>"
      ]
     },
     "metadata": {},
     "output_type": "display_data"
    },
    {
     "name": "stdout",
     "output_type": "stream",
     "text": [
      "Confusion matrix, without normalization\n",
      "[[112   0   0   0   0]\n",
      " [  0  24   0   3   0]\n",
      " [  0   0  58   0   0]\n",
      " [  0   0   0  62   0]\n",
      " [  0   0   0   0  62]]\n"
     ]
    },
    {
     "data": {
      "image/png": "[encoded data removed]",
      "text/plain": [
       "<Figure size 432x288 with 2 Axes>"
      ]
     },
     "metadata": {},
     "output_type": "display_data"
    }
   ],
   "source": [
    "import itertools\n",
    "from sklearn.metrics.classification import classification_report, jaccard_similarity_score, f1_score\n",
    "from sklearn.metrics import roc_curve, auc, confusion_matrix\n",
    "from sklearn import datasets\n",
    "from sklearn.multiclass import OneVsRestClassifier\n",
    "\n",
    "\n",
    "sgd_pred = sgd_clf.predict(X_test)\n",
    "svm_pred = svm_clf.predict(X_test)\n",
    "rf_pred = rf_clf.predict(X_test)\n",
    "nn_pred = nn_clf.predict(X_test)\n",
    "\n",
    "# measure and output accuracy\n",
    "print(\"Jaccard similarity scores: \")\n",
    "sgd_score = jaccard_similarity_score(Y_test, sgd_pred)\n",
    "svm_score = jaccard_similarity_score(Y_test, svm_pred)\n",
    "rf_score = jaccard_similarity_score(Y_test, rf_pred)\n",
    "nn_score = jaccard_similarity_score(Y_test, nn_pred)\n",
    "print(\"SGD Jaccard similarity score: {:5f}\\n\".format(sgd_score))\n",
    "print(\"SVM Jaccard similarity : {:5f}\\n\".format(svm_score))\n",
    "print(\"Random Forest Jaccard similarity score: {:5f}\\n\".format(rf_score))\n",
    "print(\"Neural Net Jaccard similarity score: {:5f}\\n\".format(nn_score))\n",
    "\n",
    "# plot confusion matrix\n",
    "def plot_confusion_matrix(cm, classes,\n",
    "                          normalize=False,\n",
    "                          title='Confusion matrix',\n",
    "                          cmap=plt.cm.Blues):\n",
    "    \"\"\"\n",
    "    This function prints and plots the confusion matrix.\n",
    "    Normalization can be applied by setting `normalize=True`.\n",
    "    \"\"\"\n",
    "    if normalize:\n",
    "        cm = cm.astype('float') / cm.sum(axis=1)[:, np.newaxis]\n",
    "        print(\"Normalized confusion matrix\")\n",
    "    else:\n",
    "        print('Confusion matrix, without normalization')\n",
    "\n",
    "    print(cm)\n",
    "\n",
    "    plt.imshow(cm, interpolation='nearest', cmap=cmap)\n",
    "    plt.title(title)\n",
    "    plt.colorbar()\n",
    "    tick_marks = np.arange(len(classes))\n",
    "    plt.xticks(tick_marks, classes, rotation=45)\n",
    "    plt.yticks(tick_marks, classes)\n",
    "\n",
    "    fmt = '.2f' if normalize else 'd'\n",
    "    thresh = cm.max() / 2.\n",
    "    for i, j in itertools.product(range(cm.shape[0]), range(cm.shape[1])):\n",
    "        plt.text(j, i, format(cm[i, j], fmt),\n",
    "                 horizontalalignment=\"center\",\n",
    "                 color=\"white\" if cm[i, j] > thresh else \"black\")\n",
    "\n",
    "    plt.tight_layout()\n",
    "    plt.ylabel('True label')\n",
    "    plt.xlabel('Predicted label')\n",
    "    \n",
    "print(\"Confusion matrix plots\")\n",
    "# SGD\n",
    "sgd_matrix = confusion_matrix(Y_test, sgd_pred)\n",
    "np.set_printoptions(precision=2)\n",
    "plt.figure()\n",
    "plot_confusion_matrix(sgd_matrix, classes=class_names,title='SGD')\n",
    "plt.show()\n",
    "\n",
    "# SVM\n",
    "svm_matrix = confusion_matrix(Y_test, svm_pred)\n",
    "np.set_printoptions(precision=2)\n",
    "plt.figure()\n",
    "plot_confusion_matrix(svm_matrix, classes=class_names,title='SVM')\n",
    "plt.show()\n",
    "\n",
    "# RF\n",
    "rf_matrix = confusion_matrix(Y_test, rf_pred)\n",
    "np.set_printoptions(precision=2)\n",
    "plt.figure()\n",
    "plot_confusion_matrix(rf_matrix, classes=class_names,title='Random Forest')\n",
    "plt.show()\n",
    "\n",
    "# NN\n",
    "nn_matrix = confusion_matrix(Y_test, nn_pred)\n",
    "np.set_printoptions(precision=2)\n",
    "plt.figure()\n",
    "plot_confusion_matrix(nn_matrix, classes=class_names,title='Neural Network')\n",
    "plt.show()"
   ]
  },
  {
   "cell_type": "markdown",
   "metadata": {},
   "source": [
    "## Results\n",
    "All four modeled performed well on the testing dataset. I am surprised by the result given such high dimensional feature spaces. SGD, SVM, and RF all achieved 100% in Jaccard similarity score. Neuron Network is slightly worse at 99% percent with 3 misclassifcations. I suspect such good results are due to parameter tuning such that the optimal parameters were found for each algorithm. Another possible cause might be the features do not have much noise, so it's hard to for algorithms to perform poorly. Considering the computational time, random forest and SGD are the most efficient algorithms in predicting the tumor outcomes given RNA microarray dataset. For future work, I would love to test the algorithms on more RNA microarray dataset or similar high dimensional problems. "
   ]
  },
  {
   "cell_type": "code",
   "execution_count": null,
   "metadata": {},
   "outputs": [],
   "source": []
  }
 ],
 "metadata": {
  "kernelspec": {
   "display_name": "Python 3",
   "language": "python",
   "name": "python3"
  },
  "language_info": {
   "codemirror_mode": {
    "name": "ipython",
    "version": 3
   },
   "file_extension": ".py",
   "mimetype": "text/x-python",
   "name": "python",
   "nbconvert_exporter": "python",
   "pygments_lexer": "ipython3",
   "version": "3.6.4"
  }
 },
 "nbformat": 4,
 "nbformat_minor": 2
}
