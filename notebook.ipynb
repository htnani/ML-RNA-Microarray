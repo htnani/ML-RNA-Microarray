{
 "cells": [
  {
   "cell_type": "markdown",
   "metadata": {},
   "source": [
    "# RNA Microarray Machine Learning\n",
    "\n",
    "- Data source is from UCI Machine Learning Repo [https://archive.ics.uci.edu/ml/datasets/gene+expression+cancer+RNA-Seq]\n",
    "- The dataset is a collection gene expressions of patients having different types of tumor: BRCA(breast), KIRC(kidney), COAD(colon), LUAD(lung) and PRAD(prostate).\n",
    "\n",
    "\n",
    "## Import Data and Exploration\n",
    "The datast contains 801 instances and 20531 features. It is a high dimensional low sample size dataset with multiple classes. First step of the project is importing the dataset and perform some explorations of the dataset to gain some basic understanding. In terms of visualizations, it is difficult to visualize because of high dimensions. t -Distributed Stochastic Neighbor Embedding or t-SNE is a technique that I used to perform dimension reduction to visualize the data in 2D.\n",
    "\n",
    "\n"
   ]
  },
  {
   "cell_type": "code",
   "execution_count": 17,
   "metadata": {},
   "outputs": [
    {
     "name": "stdout",
     "output_type": "stream",
     "text": [
      "  Unnamed: 0  gene_0    gene_1    gene_2    gene_3     gene_4  gene_5  \\\n",
      "0   sample_0     0.0  2.017209  3.265527  5.478487  10.431999     0.0   \n",
      "1   sample_1     0.0  0.592732  1.588421  7.586157   9.623011     0.0   \n",
      "2   sample_2     0.0  3.511759  4.327199  6.881787   9.870730     0.0   \n",
      "3   sample_3     0.0  3.663618  4.507649  6.659068  10.196184     0.0   \n",
      "4   sample_4     0.0  2.655741  2.821547  6.539454   9.738265     0.0   \n",
      "\n",
      "     gene_6    gene_7  gene_8     ...      gene_20521  gene_20522  gene_20523  \\\n",
      "0  7.175175  0.591871     0.0     ...        4.926711    8.210257    9.723516   \n",
      "1  6.816049  0.000000     0.0     ...        4.593372    7.323865    9.740931   \n",
      "2  6.972130  0.452595     0.0     ...        5.125213    8.127123   10.908640   \n",
      "3  7.843375  0.434882     0.0     ...        6.076566    8.792959   10.141520   \n",
      "4  6.566967  0.360982     0.0     ...        5.996032    8.891425   10.373790   \n",
      "\n",
      "   gene_20524  gene_20525  gene_20526  gene_20527  gene_20528  gene_20529  \\\n",
      "0    7.220030    9.119813   12.003135    9.650743    8.921326    5.286759   \n",
      "1    6.256586    8.381612   12.674552   10.517059    9.397854    2.094168   \n",
      "2    5.401607    9.911597    9.045255    9.788359   10.090470    1.683023   \n",
      "3    8.942805    9.601208   11.392682    9.694814    9.684365    3.292001   \n",
      "4    7.181162    9.846910   11.922439    9.217749    9.461191    5.110372   \n",
      "\n",
      "   gene_20530  \n",
      "0         0.0  \n",
      "1         0.0  \n",
      "2         0.0  \n",
      "3         0.0  \n",
      "4         0.0  \n",
      "\n",
      "[5 rows x 20532 columns]\n",
      "  Unnamed: 0 Class\n",
      "0   sample_0  PRAD\n",
      "1   sample_1  LUAD\n",
      "2   sample_2  PRAD\n",
      "3   sample_3  PRAD\n",
      "4   sample_4  BRCA\n",
      "\n",
      "\n",
      "The shape of dataset:\n",
      "(801, 20531)\n",
      "(801, 2)\n",
      "[t-SNE] Computing pairwise distances...\n",
      "[t-SNE] Computing 121 nearest neighbors...\n",
      "[t-SNE] Computed conditional probabilities for sample 801 / 801\n",
      "[t-SNE] Mean sigma: 48.192174\n",
      "[t-SNE] KL divergence after 100 iterations with early exaggeration: 0.769701\n",
      "[t-SNE] Error after 175 iterations: 0.769701\n",
      "TSNE took at 24.14 seconds\n"
     ]
    },
    {
     "data": {
      "text/plain": [
       "<function matplotlib.pyplot.close>"
      ]
     },
     "execution_count": 17,
     "metadata": {},
     "output_type": "execute_result"
    },
    {
     "data": {
      "image/png": "[encoded data removed]",
      "text/plain": [
       "<matplotlib.figure.Figure at 0x7fba5acb6080>"
      ]
     },
     "metadata": {},
     "output_type": "display_data"
    }
   ],
   "source": [
    "import pandas as pd\n",
    "import matplotlib.pyplot as plt\n",
    "import os.path\n",
    "import numpy as np\n",
    "from numpy import genfromtxt\n",
    "import time\n",
    "from sklearn.manifold import TSNE\n",
    "from sklearn.model_selection import train_test_split\n",
    "from sklearn.decomposition import PCA\n",
    "from sklearn.preprocessing import LabelEncoder\n",
    "\n",
    "# load the dataset\n",
    "X = pd.read_csv(\"data/RNA_data/data.csv\")\n",
    "Y = pd.read_csv(\"data/RNA_data/labels.csv\")\n",
    "\n",
    "# basic overview of data dimension\n",
    "print(X.head())\n",
    "print(Y.head())\n",
    "\n",
    "# convert dataframe into a numpy array\n",
    "X = X.dropna()\n",
    "# drop the first column which only contains strings\n",
    "X = X.drop(X.columns[X.columns.str.contains('unnamed', case=False)], axis=1)\n",
    "print(\"\\n\\nThe shape of dataset:\")\n",
    "print(X.shape)\n",
    "print(Y.shape)\n",
    "\n",
    "# label encode the multiple class string into integer values\n",
    "Y = Y.drop(Y.columns[0], axis=1)\n",
    "Y = Y.apply(LabelEncoder().fit_transform)\n",
    "\n",
    "# use TSNE to visualize the high dimension data in 2D\n",
    "t0 = time.time()\n",
    "tsne = TSNE(n_components=2, verbose=1, perplexity=40, n_iter=300, random_state=100)\n",
    "tsne_results = tsne.fit_transform(X)\n",
    "t1 = time.time()\n",
    "print(\"TSNE took at %.2f seconds\" % (t1 - t0))\n",
    "\n",
    "# visualize TSNE\n",
    "x_axis = tsne_results[:,0]\n",
    "y_axis = tsne_results[:,1]\n",
    "plt.scatter(x_axis, y_axis, c=Y, cmap=plt.cm.get_cmap(\"jet\", 100))\n",
    "plt.colorbar(ticks=range(10))\n",
    "plt.clim(-0.5, 9.5)\n",
    "plt.title(\"TSNE Visualization\")\n",
    "plt.show\n",
    "plt.close"
   ]
  },
  {
   "cell_type": "markdown",
   "metadata": {},
   "source": [
    "**The TSNE algorithm is a dimension reduction algorithm that allows us to visualize high dimensional data in 2D. We see that dataset form five clusters, which correlates with the five different tumor types.**"
   ]
  },
  {
   "cell_type": "markdown",
   "metadata": {},
   "source": [
    "## Split Dataset into Train and Test\n",
    "\n"
   ]
  },
  {
   "cell_type": "code",
   "execution_count": null,
   "metadata": {},
   "outputs": [],
   "source": [
    "# split data into training and testing set\n",
    "X_train, X_test, Y_train, Y_test \\\n",
    "    = train_test_split(X, Y, test_size=0.40, random_state=100)\n",
    "\n",
    "# save the train and test csv files\n",
    "X_train.to_csv(\"data/X_train.csv\")\n",
    "X_test.to_csv(\"data/X_test.csv\")\n",
    "Y_train.to_csv(\"data/Y_train.csv\")\n",
    "Y_test.to_csv(\"data/Y_test.csv\")"
   ]
  }
 ],
 "metadata": {
  "kernelspec": {
   "display_name": "Python 3",
   "language": "python",
   "name": "python3"
  },
  "language_info": {
   "codemirror_mode": {
    "name": "ipython",
    "version": 3
   },
   "file_extension": ".py",
   "mimetype": "text/x-python",
   "name": "python",
   "nbconvert_exporter": "python",
   "pygments_lexer": "ipython3",
   "version": "3.6.3"
  }
 },
 "nbformat": 4,
 "nbformat_minor": 1
}
